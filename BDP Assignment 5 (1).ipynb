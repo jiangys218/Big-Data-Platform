{
 "cells": [
  {
   "cell_type": "markdown",
   "metadata": {},
   "source": [
    "# Set up and load files"
   ]
  },
  {
   "cell_type": "code",
   "execution_count": 1,
   "metadata": {},
   "outputs": [
    {
     "name": "stdout",
     "output_type": "stream",
     "text": [
      "2.4.0-cdh6.3.0\n"
     ]
    }
   ],
   "source": [
    "#Ensure we are using the right kernel\n",
    "print (sc.version)"
   ]
  },
  {
   "cell_type": "code",
   "execution_count": 2,
   "metadata": {},
   "outputs": [],
   "source": [
    "#load libraries\n",
    "import os\n",
    "import shutil\n",
    "import sh\n",
    "from pyspark.sql.functions import *\n",
    "from pyspark.sql.types import *"
   ]
  },
  {
   "cell_type": "code",
   "execution_count": 3,
   "metadata": {},
   "outputs": [
    {
     "name": "stdout",
     "output_type": "stream",
     "text": [
      "-rwxr-xr-x 1 kadochnikov kadochnikov 702878193 Nov  4  2016 /project2/msca/kadochnikov/data/air_travel/2007.csv\r\n"
     ]
    }
   ],
   "source": [
    "#check files\n",
    "! ls -l /project2/msca/kadochnikov/data/air_travel/2007.csv"
   ]
  },
  {
   "cell_type": "code",
   "execution_count": 4,
   "metadata": {},
   "outputs": [
    {
     "name": "stdout",
     "output_type": "stream",
     "text": [
      "-rwxr-xr-x 1 kadochnikov kadochnikov 689413344 Nov  4  2016 /project2/msca/kadochnikov/data/air_travel/2008.csv\r\n"
     ]
    }
   ],
   "source": [
    "! ls -l /project2/msca/kadochnikov/data/air_travel/2008.csv"
   ]
  },
  {
   "cell_type": "code",
   "execution_count": 5,
   "metadata": {},
   "outputs": [
    {
     "data": {
      "text/plain": [
       "'file:///project2/msca/kadochnikov/data/air_travel/2007.csv'"
      ]
     },
     "execution_count": 5,
     "metadata": {},
     "output_type": "execute_result"
    }
   ],
   "source": [
    "#set path\n",
    "path = \"file:///project2/msca/kadochnikov/data/air_travel/\"\n",
    "file2007 = \"2007.csv\"\n",
    "csv2007 = path+file2007\n",
    "csv2007"
   ]
  },
  {
   "cell_type": "code",
   "execution_count": 6,
   "metadata": {},
   "outputs": [
    {
     "data": {
      "text/plain": [
       "'file:///project2/msca/kadochnikov/data/air_travel/2008.csv'"
      ]
     },
     "execution_count": 6,
     "metadata": {},
     "output_type": "execute_result"
    }
   ],
   "source": [
    "file2008 = \"2008.csv\"\n",
    "csv2008 = path+file2008\n",
    "csv2008"
   ]
  },
  {
   "cell_type": "code",
   "execution_count": 7,
   "metadata": {},
   "outputs": [
    {
     "data": {
      "text/plain": [
       "DataFrame[Year: int, Month: int, DayofMonth: int, DayOfWeek: int, DepTime: string, CRSDepTime: int, ArrTime: string, CRSArrTime: int, UniqueCarrier: string, FlightNum: int, TailNum: string, ActualElapsedTime: string, CRSElapsedTime: string, AirTime: string, ArrDelay: string, DepDelay: string, Origin: string, Dest: string, Distance: int, TaxiIn: int, TaxiOut: int, Cancelled: int, CancellationCode: string, Diverted: int, CarrierDelay: int, WeatherDelay: int, NASDelay: int, SecurityDelay: int, LateAircraftDelay: int]"
      ]
     },
     "execution_count": 7,
     "metadata": {},
     "output_type": "execute_result"
    }
   ],
   "source": [
    "#read files, cache files\n",
    "air2007 = spark.read.format('com.databricks.spark.csv').\\\n",
    "options(header='true', inferschema='true', delimiter=',', quote='\"').load(csv2007)\n",
    "air2007.cache()"
   ]
  },
  {
   "cell_type": "code",
   "execution_count": 8,
   "metadata": {},
   "outputs": [
    {
     "data": {
      "text/plain": [
       "DataFrame[Year: int, Month: int, DayofMonth: int, DayOfWeek: int, DepTime: string, CRSDepTime: int, ArrTime: string, CRSArrTime: int, UniqueCarrier: string, FlightNum: int, TailNum: string, ActualElapsedTime: string, CRSElapsedTime: string, AirTime: string, ArrDelay: string, DepDelay: string, Origin: string, Dest: string, Distance: int, TaxiIn: string, TaxiOut: string, Cancelled: int, CancellationCode: string, Diverted: int, CarrierDelay: string, WeatherDelay: string, NASDelay: string, SecurityDelay: string, LateAircraftDelay: string]"
      ]
     },
     "execution_count": 8,
     "metadata": {},
     "output_type": "execute_result"
    }
   ],
   "source": [
    "air2008 = spark.read.format('com.databricks.spark.csv').\\\n",
    "options(header='true', inferschema='true', delimiter=',', quote='\"').load(csv2008)\n",
    "air2008.cache()\n"
   ]
  },
  {
   "cell_type": "code",
   "execution_count": 9,
   "metadata": {},
   "outputs": [
    {
     "data": {
      "text/html": [
       "<table border='1'>\n",
       "<tr><th>Year</th><th>Month</th><th>DayofMonth</th><th>DayOfWeek</th><th>DepTime</th><th>CRSDepTime</th><th>ArrTime</th><th>CRSArrTime</th><th>UniqueCarrier</th><th>FlightNum</th><th>TailNum</th><th>ActualElapsedTime</th><th>CRSElapsedTime</th><th>AirTime</th><th>ArrDelay</th><th>DepDelay</th><th>Origin</th><th>Dest</th><th>Distance</th><th>TaxiIn</th><th>TaxiOut</th><th>Cancelled</th><th>CancellationCode</th><th>Diverted</th><th>CarrierDelay</th><th>WeatherDelay</th><th>NASDelay</th><th>SecurityDelay</th><th>LateAircraftDelay</th></tr>\n",
       "<tr><td>2007</td><td>11</td><td>3</td><td>6</td><td>1514</td><td>1518</td><td>1626</td><td>1629</td><td>DL</td><td>1806</td><td>N902DA</td><td>132</td><td>131</td><td>110</td><td>-3</td><td>-4</td><td>SLC</td><td>SEA</td><td>689</td><td>7</td><td>15</td><td>0</td><td>null</td><td>0</td><td>0</td><td>0</td><td>0</td><td>0</td><td>0</td></tr>\n",
       "<tr><td>2007</td><td>11</td><td>3</td><td>6</td><td>738</td><td>740</td><td>1034</td><td>1043</td><td>DL</td><td>1807</td><td>N968DL</td><td>176</td><td>183</td><td>149</td><td>-9</td><td>-2</td><td>LGA</td><td>TPA</td><td>1011</td><td>5</td><td>22</td><td>0</td><td>null</td><td>0</td><td>0</td><td>0</td><td>0</td><td>0</td><td>0</td></tr>\n",
       "<tr><td>2007</td><td>11</td><td>3</td><td>6</td><td>653</td><td>700</td><td>933</td><td>952</td><td>DL</td><td>1808</td><td>N399DA</td><td>340</td><td>352</td><td>319</td><td>-19</td><td>-7</td><td>FLL</td><td>LAX</td><td>2342</td><td>10</td><td>11</td><td>0</td><td>null</td><td>0</td><td>0</td><td>0</td><td>0</td><td>0</td><td>0</td></tr>\n",
       "<tr><td>2007</td><td>11</td><td>3</td><td>6</td><td>747</td><td>751</td><td>922</td><td>932</td><td>DL</td><td>1809</td><td>N948DL</td><td>95</td><td>101</td><td>74</td><td>-10</td><td>-4</td><td>ATL</td><td>RSW</td><td>515</td><td>5</td><td>16</td><td>0</td><td>null</td><td>0</td><td>0</td><td>0</td><td>0</td><td>0</td><td>0</td></tr>\n",
       "<tr><td>2007</td><td>11</td><td>3</td><td>6</td><td>1752</td><td>1800</td><td>2045</td><td>2049</td><td>DL</td><td>1810</td><td>N615DL</td><td>113</td><td>109</td><td>82</td><td>-4</td><td>-8</td><td>LAX</td><td>SLC</td><td>590</td><td>7</td><td>24</td><td>0</td><td>null</td><td>0</td><td>0</td><td>0</td><td>0</td><td>0</td><td>0</td></tr>\n",
       "<tr><td>2007</td><td>11</td><td>3</td><td>6</td><td>1027</td><td>1030</td><td>1246</td><td>1251</td><td>DL</td><td>1814</td><td>N910DL</td><td>79</td><td>81</td><td>61</td><td>-5</td><td>-3</td><td>MSY</td><td>ATL</td><td>425</td><td>8</td><td>10</td><td>0</td><td>null</td><td>0</td><td>0</td><td>0</td><td>0</td><td>0</td><td>0</td></tr>\n",
       "<tr><td>2007</td><td>11</td><td>3</td><td>6</td><td>923</td><td>930</td><td>1130</td><td>1140</td><td>DL</td><td>1815</td><td>N391DA</td><td>127</td><td>130</td><td>107</td><td>-10</td><td>-7</td><td>MCO</td><td>CVG</td><td>756</td><td>5</td><td>15</td><td>0</td><td>null</td><td>0</td><td>0</td><td>0</td><td>0</td><td>0</td><td>0</td></tr>\n",
       "<tr><td>2007</td><td>11</td><td>3</td><td>6</td><td>819</td><td>820</td><td>1005</td><td>1010</td><td>DL</td><td>1818</td><td>N625DL</td><td>106</td><td>110</td><td>88</td><td>-5</td><td>-1</td><td>ATL</td><td>FLL</td><td>581</td><td>5</td><td>13</td><td>0</td><td>null</td><td>0</td><td>0</td><td>0</td><td>0</td><td>0</td><td>0</td></tr>\n",
       "<tr><td>2007</td><td>11</td><td>3</td><td>6</td><td>NA</td><td>815</td><td>NA</td><td>1542</td><td>DL</td><td>1820</td><td>N388DA</td><td>NA</td><td>267</td><td>NA</td><td>NA</td><td>NA</td><td>SFO</td><td>CVG</td><td>2036</td><td>0</td><td>0</td><td>1</td><td>A</td><td>0</td><td>0</td><td>0</td><td>0</td><td>0</td><td>0</td></tr>\n",
       "<tr><td>2007</td><td>11</td><td>3</td><td>6</td><td>1611</td><td>1620</td><td>1811</td><td>1829</td><td>DL</td><td>1823</td><td>N954DL</td><td>60</td><td>69</td><td>40</td><td>-18</td><td>-9</td><td>BNA</td><td>ATL</td><td>214</td><td>6</td><td>14</td><td>0</td><td>null</td><td>0</td><td>0</td><td>0</td><td>0</td><td>0</td><td>0</td></tr>\n",
       "</table>\n"
      ],
      "text/plain": [
       "+----+-----+----------+---------+-------+----------+-------+----------+-------------+---------+-------+-----------------+--------------+-------+--------+--------+------+----+--------+------+-------+---------+----------------+--------+------------+------------+--------+-------------+-----------------+\n",
       "|Year|Month|DayofMonth|DayOfWeek|DepTime|CRSDepTime|ArrTime|CRSArrTime|UniqueCarrier|FlightNum|TailNum|ActualElapsedTime|CRSElapsedTime|AirTime|ArrDelay|DepDelay|Origin|Dest|Distance|TaxiIn|TaxiOut|Cancelled|CancellationCode|Diverted|CarrierDelay|WeatherDelay|NASDelay|SecurityDelay|LateAircraftDelay|\n",
       "+----+-----+----------+---------+-------+----------+-------+----------+-------------+---------+-------+-----------------+--------------+-------+--------+--------+------+----+--------+------+-------+---------+----------------+--------+------------+------------+--------+-------------+-----------------+\n",
       "|2007|    7|        23|        1|    631|       635|    658|       704|           HA|      104| N475HA|               27|            29|     19|      -6|      -4|   LIH| HNL|     102|     5|      3|        0|            null|       0|           0|           0|       0|            0|                0|\n",
       "|2007|    7|        24|        2|    628|       635|    656|       704|           HA|      104| N475HA|               28|            29|     21|      -8|      -7|   LIH| HNL|     102|     4|      3|        0|            null|       0|           0|           0|       0|            0|                0|\n",
       "|2007|    7|        25|        3|    629|       635|    700|       704|           HA|      104| N480HA|               31|            29|     20|      -4|      -6|   LIH| HNL|     102|     6|      5|        0|            null|       0|           0|           0|       0|            0|                0|\n",
       "|2007|    7|        26|        4|    628|       635|    655|       704|           HA|      104| N480HA|               27|            29|     19|      -9|      -7|   LIH| HNL|     102|     4|      4|        0|            null|       0|           0|           0|       0|            0|                0|\n",
       "|2007|    7|        27|        5|    629|       635|    702|       704|           HA|      104| N480HA|               33|            29|     22|      -2|      -6|   LIH| HNL|     102|     6|      5|        0|            null|       0|           0|           0|       0|            0|                0|\n",
       "|2007|    7|        28|        6|    628|       635|    658|       704|           HA|      104| N480HA|               30|            29|     20|      -6|      -7|   LIH| HNL|     102|     7|      3|        0|            null|       0|           0|           0|       0|            0|                0|\n",
       "|2007|    7|        30|        1|    631|       635|    700|       704|           HA|      104| N475HA|               29|            29|     21|      -4|      -4|   LIH| HNL|     102|     5|      3|        0|            null|       0|           0|           0|       0|            0|                0|\n",
       "|2007|    7|        31|        2|    630|       635|    700|       704|           HA|      104| N476HA|               30|            29|     21|      -4|      -5|   LIH| HNL|     102|     6|      3|        0|            null|       0|           0|           0|       0|            0|                0|\n",
       "|2007|    7|         2|        1|    621|       623|    655|       657|           HA|      105| N478HA|               34|            34|     22|      -2|      -2|   OGG| HNL|     100|     6|      6|        0|            null|       0|           0|           0|       0|            0|                0|\n",
       "|2007|    7|         3|        2|    619|       623|    651|       657|           HA|      105| N484HA|               32|            34|     21|      -6|      -4|   OGG| HNL|     100|     6|      5|        0|            null|       0|           0|           0|       0|            0|                0|\n",
       "+----+-----+----------+---------+-------+----------+-------+----------+-------------+---------+-------+-----------------+--------------+-------+--------+--------+------+----+--------+------+-------+---------+----------------+--------+------------+------------+--------+-------------+-----------------+"
      ]
     },
     "execution_count": 9,
     "metadata": {},
     "output_type": "execute_result"
    }
   ],
   "source": [
    "#show files loaded\n",
    "spark.conf.set(\"spark.sql.repl.eagerEval.enabled\",True)\n",
    "air2007.limit(10)"
   ]
  },
  {
   "cell_type": "code",
   "execution_count": 10,
   "metadata": {},
   "outputs": [
    {
     "data": {
      "text/html": [
       "<table border='1'>\n",
       "<tr><th>Year</th><th>Month</th><th>DayofMonth</th><th>DayOfWeek</th><th>DepTime</th><th>CRSDepTime</th><th>ArrTime</th><th>CRSArrTime</th><th>UniqueCarrier</th><th>FlightNum</th><th>TailNum</th><th>ActualElapsedTime</th><th>CRSElapsedTime</th><th>AirTime</th><th>ArrDelay</th><th>DepDelay</th><th>Origin</th><th>Dest</th><th>Distance</th><th>TaxiIn</th><th>TaxiOut</th><th>Cancelled</th><th>CancellationCode</th><th>Diverted</th><th>CarrierDelay</th><th>WeatherDelay</th><th>NASDelay</th><th>SecurityDelay</th><th>LateAircraftDelay</th></tr>\n",
       "<tr><td>2008</td><td>1</td><td>3</td><td>4</td><td>2003</td><td>1955</td><td>2211</td><td>2225</td><td>WN</td><td>335</td><td>N712SW</td><td>128</td><td>150</td><td>116</td><td>-14</td><td>8</td><td>IAD</td><td>TPA</td><td>810</td><td>4</td><td>8</td><td>0</td><td>null</td><td>0</td><td>NA</td><td>NA</td><td>NA</td><td>NA</td><td>NA</td></tr>\n",
       "<tr><td>2008</td><td>1</td><td>3</td><td>4</td><td>754</td><td>735</td><td>1002</td><td>1000</td><td>WN</td><td>3231</td><td>N772SW</td><td>128</td><td>145</td><td>113</td><td>2</td><td>19</td><td>IAD</td><td>TPA</td><td>810</td><td>5</td><td>10</td><td>0</td><td>null</td><td>0</td><td>NA</td><td>NA</td><td>NA</td><td>NA</td><td>NA</td></tr>\n",
       "<tr><td>2008</td><td>1</td><td>3</td><td>4</td><td>628</td><td>620</td><td>804</td><td>750</td><td>WN</td><td>448</td><td>N428WN</td><td>96</td><td>90</td><td>76</td><td>14</td><td>8</td><td>IND</td><td>BWI</td><td>515</td><td>3</td><td>17</td><td>0</td><td>null</td><td>0</td><td>NA</td><td>NA</td><td>NA</td><td>NA</td><td>NA</td></tr>\n",
       "<tr><td>2008</td><td>1</td><td>3</td><td>4</td><td>926</td><td>930</td><td>1054</td><td>1100</td><td>WN</td><td>1746</td><td>N612SW</td><td>88</td><td>90</td><td>78</td><td>-6</td><td>-4</td><td>IND</td><td>BWI</td><td>515</td><td>3</td><td>7</td><td>0</td><td>null</td><td>0</td><td>NA</td><td>NA</td><td>NA</td><td>NA</td><td>NA</td></tr>\n",
       "<tr><td>2008</td><td>1</td><td>3</td><td>4</td><td>1829</td><td>1755</td><td>1959</td><td>1925</td><td>WN</td><td>3920</td><td>N464WN</td><td>90</td><td>90</td><td>77</td><td>34</td><td>34</td><td>IND</td><td>BWI</td><td>515</td><td>3</td><td>10</td><td>0</td><td>null</td><td>0</td><td>2</td><td>0</td><td>0</td><td>0</td><td>32</td></tr>\n",
       "<tr><td>2008</td><td>1</td><td>3</td><td>4</td><td>1940</td><td>1915</td><td>2121</td><td>2110</td><td>WN</td><td>378</td><td>N726SW</td><td>101</td><td>115</td><td>87</td><td>11</td><td>25</td><td>IND</td><td>JAX</td><td>688</td><td>4</td><td>10</td><td>0</td><td>null</td><td>0</td><td>NA</td><td>NA</td><td>NA</td><td>NA</td><td>NA</td></tr>\n",
       "<tr><td>2008</td><td>1</td><td>3</td><td>4</td><td>1937</td><td>1830</td><td>2037</td><td>1940</td><td>WN</td><td>509</td><td>N763SW</td><td>240</td><td>250</td><td>230</td><td>57</td><td>67</td><td>IND</td><td>LAS</td><td>1591</td><td>3</td><td>7</td><td>0</td><td>null</td><td>0</td><td>10</td><td>0</td><td>0</td><td>0</td><td>47</td></tr>\n",
       "<tr><td>2008</td><td>1</td><td>3</td><td>4</td><td>1039</td><td>1040</td><td>1132</td><td>1150</td><td>WN</td><td>535</td><td>N428WN</td><td>233</td><td>250</td><td>219</td><td>-18</td><td>-1</td><td>IND</td><td>LAS</td><td>1591</td><td>7</td><td>7</td><td>0</td><td>null</td><td>0</td><td>NA</td><td>NA</td><td>NA</td><td>NA</td><td>NA</td></tr>\n",
       "<tr><td>2008</td><td>1</td><td>3</td><td>4</td><td>617</td><td>615</td><td>652</td><td>650</td><td>WN</td><td>11</td><td>N689SW</td><td>95</td><td>95</td><td>70</td><td>2</td><td>2</td><td>IND</td><td>MCI</td><td>451</td><td>6</td><td>19</td><td>0</td><td>null</td><td>0</td><td>NA</td><td>NA</td><td>NA</td><td>NA</td><td>NA</td></tr>\n",
       "<tr><td>2008</td><td>1</td><td>3</td><td>4</td><td>1620</td><td>1620</td><td>1639</td><td>1655</td><td>WN</td><td>810</td><td>N648SW</td><td>79</td><td>95</td><td>70</td><td>-16</td><td>0</td><td>IND</td><td>MCI</td><td>451</td><td>3</td><td>6</td><td>0</td><td>null</td><td>0</td><td>NA</td><td>NA</td><td>NA</td><td>NA</td><td>NA</td></tr>\n",
       "</table>\n"
      ],
      "text/plain": [
       "+----+-----+----------+---------+-------+----------+-------+----------+-------------+---------+-------+-----------------+--------------+-------+--------+--------+------+----+--------+------+-------+---------+----------------+--------+------------+------------+--------+-------------+-----------------+\n",
       "|Year|Month|DayofMonth|DayOfWeek|DepTime|CRSDepTime|ArrTime|CRSArrTime|UniqueCarrier|FlightNum|TailNum|ActualElapsedTime|CRSElapsedTime|AirTime|ArrDelay|DepDelay|Origin|Dest|Distance|TaxiIn|TaxiOut|Cancelled|CancellationCode|Diverted|CarrierDelay|WeatherDelay|NASDelay|SecurityDelay|LateAircraftDelay|\n",
       "+----+-----+----------+---------+-------+----------+-------+----------+-------------+---------+-------+-----------------+--------------+-------+--------+--------+------+----+--------+------+-------+---------+----------------+--------+------------+------------+--------+-------------+-----------------+\n",
       "|2008|    5|        12|        1|   2110|      2050|   2205|      2146|           OO|     6633| N713SK|              115|           116|     96|      19|      20|   DEN| TUS|     639|     4|     15|        0|            null|       0|           0|           0|       0|            0|               19|\n",
       "|2008|    5|        12|        1|   1547|      1535|   1832|      1819|           OO|     6634| N466SW|              105|           104|     80|      13|      12|   DEN| SGF|     637|     4|     21|        0|            null|       0|          NA|          NA|      NA|           NA|               NA|\n",
       "|2008|    5|        12|        1|    643|       645|    727|       723|           OO|     6635| N983SW|              104|            98|     85|       4|      -2|   BIS| DEN|     517|    10|      9|        0|            null|       0|          NA|          NA|      NA|           NA|               NA|\n",
       "|2008|    5|        12|        1|   1902|      1910|   2134|      2147|           OO|     6636| N903SW|               92|            97|     68|     -13|      -8|   DEN| BIS|     517|     3|     21|        0|            null|       0|          NA|          NA|      NA|           NA|               NA|\n",
       "|2008|    5|        12|        1|   2055|      2055|   2234|      2239|           OO|     6637| N920SW|               99|           104|     81|      -5|       0|   DEN| BZN|     525|     6|     12|        0|            null|       0|          NA|          NA|      NA|           NA|               NA|\n",
       "|2008|    5|        12|        1|    611|       600|    748|       740|           OO|     6638| N970SW|               97|           100|     76|       8|      11|   BZN| DEN|     525|    10|     11|        0|            null|       0|          NA|          NA|      NA|           NA|               NA|\n",
       "|2008|    5|        12|        1|   1709|      1635|   1842|      1815|           OO|     6639| N918SW|               93|           100|     81|      27|      34|   BZN| DEN|     525|     3|      9|        0|            null|       0|          27|           0|       0|            0|                0|\n",
       "|2008|    5|        12|        1|   1449|      1425|   1643|      1609|           OO|     6639| N918SW|              114|           104|     92|      34|      24|   DEN| BZN|     525|     4|     18|        0|            null|       0|          24|           0|      10|            0|                0|\n",
       "|2008|    5|        12|        1|   1256|      1303|   1359|      1415|           OO|     6643| N937SW|               63|            72|     44|     -16|      -7|   DEN| RAP|     301|     5|     14|        0|            null|       0|          NA|          NA|      NA|           NA|               NA|\n",
       "|2008|    5|        12|        1|   1437|      1441|   1544|      1556|           OO|     6643| N937SW|               67|            75|     55|     -12|      -4|   RAP| DEN|     301|     5|      7|        0|            null|       0|          NA|          NA|      NA|           NA|               NA|\n",
       "+----+-----+----------+---------+-------+----------+-------+----------+-------------+---------+-------+-----------------+--------------+-------+--------+--------+------+----+--------+------+-------+---------+----------------+--------+------------+------------+--------+-------------+-----------------+"
      ]
     },
     "execution_count": 10,
     "metadata": {},
     "output_type": "execute_result"
    }
   ],
   "source": [
    "air2008.limit(10)"
   ]
  },
  {
   "cell_type": "code",
   "execution_count": null,
   "metadata": {},
   "outputs": [],
   "source": []
  },
  {
   "cell_type": "markdown",
   "metadata": {},
   "source": [
    "# 1. Which locations (Origin and Dest pairs) had the worst delays for both arrivals (ArrDelay) and departures (DepDelay) - for each year"
   ]
  },
  {
   "cell_type": "code",
   "execution_count": 15,
   "metadata": {},
   "outputs": [
    {
     "name": "stdout",
     "output_type": "stream",
     "text": [
      "+------+----+--------------+\n",
      "|Origin|Dest|total_arrdelay|\n",
      "+------+----+--------------+\n",
      "|   ONT| IAD|         370.0|\n",
      "+------+----+--------------+\n",
      "\n"
     ]
    }
   ],
   "source": [
    "#2007 arrival delay\n",
    "#It makes more sense to take the mean of the ArrDelay and DepDelay rather than using sum since having a high total delay might due to a large number of flight for that route\n",
    "\n",
    "arrdelay2007 = air2007.groupby(['Origin', 'Dest']).\\\n",
    "    agg(mean('ArrDelay').alias(\"total_arrdelay\")).\\\n",
    "    orderBy(\"total_arrdelay\", ascending=False).\\\n",
    "    limit(1)\n",
    "    \n",
    "arrdelay2007.show()  "
   ]
  },
  {
   "cell_type": "code",
   "execution_count": 16,
   "metadata": {},
   "outputs": [
    {
     "name": "stdout",
     "output_type": "stream",
     "text": [
      "+------+----+--------------+\n",
      "|Origin|Dest|total_arrdelay|\n",
      "+------+----+--------------+\n",
      "|   CMI| SPI|         575.0|\n",
      "+------+----+--------------+\n",
      "\n"
     ]
    }
   ],
   "source": [
    "#2008 arrival delay\n",
    "\n",
    "arrdelay2008 = air2008.groupby(['Origin', 'Dest']).\\\n",
    "    agg(mean('ArrDelay').alias(\"total_arrdelay\")).\\\n",
    "    orderBy(\"total_arrdelay\", ascending=False).\\\n",
    "    limit(1)\n",
    "    \n",
    "arrdelay2008.show()  "
   ]
  },
  {
   "cell_type": "code",
   "execution_count": 17,
   "metadata": {},
   "outputs": [
    {
     "name": "stdout",
     "output_type": "stream",
     "text": [
      "+------+----+--------------+\n",
      "|Origin|Dest|total_depdelay|\n",
      "+------+----+--------------+\n",
      "|   ONT| IAD|         386.0|\n",
      "+------+----+--------------+\n",
      "\n"
     ]
    }
   ],
   "source": [
    "#2007 departure delay\n",
    "\n",
    "depdelay2007 = air2007.groupby(['Origin', 'Dest']).\\\n",
    "    agg(mean('DepDelay').alias(\"total_depdelay\")).\\\n",
    "    orderBy(\"total_depdelay\", ascending=False).\\\n",
    "    limit(1)\n",
    "    \n",
    "depdelay2007.show()  "
   ]
  },
  {
   "cell_type": "code",
   "execution_count": 18,
   "metadata": {},
   "outputs": [
    {
     "name": "stdout",
     "output_type": "stream",
     "text": [
      "+------+----+--------------+\n",
      "|Origin|Dest|total_depdelay|\n",
      "+------+----+--------------+\n",
      "|   CMI| SPI|         587.0|\n",
      "+------+----+--------------+\n",
      "\n"
     ]
    }
   ],
   "source": [
    "#2008 departure delay\n",
    "\n",
    "depdelay2008 = air2008.groupby(['Origin', 'Dest']).\\\n",
    "    agg(mean('DepDelay').alias(\"total_depdelay\")).\\\n",
    "    orderBy(\"total_depdelay\", ascending=False).\\\n",
    "    limit(1)\n",
    "    \n",
    "depdelay2008.show()  "
   ]
  },
  {
   "cell_type": "markdown",
   "metadata": {},
   "source": [
    "Based on the tables above, the route going from ONT to IAD has the worst arrival delay for both 2007 and 2008 while the route going from CMI to SPI has the worst departure delay for both 2007 and 2008"
   ]
  },
  {
   "cell_type": "code",
   "execution_count": null,
   "metadata": {},
   "outputs": [],
   "source": []
  },
  {
   "cell_type": "markdown",
   "metadata": {},
   "source": [
    "# 2. Which locations had fewest delays."
   ]
  },
  {
   "cell_type": "code",
   "execution_count": 25,
   "metadata": {},
   "outputs": [
    {
     "name": "stdout",
     "output_type": "stream",
     "text": [
      "+------+----+------------+\n",
      "|Origin|Dest|total_delays|\n",
      "+------+----+------------+\n",
      "|   PIA| MSP|           1|\n",
      "|   ROC| SYR|           1|\n",
      "|   MDT| LGA|           1|\n",
      "|   ACY| MYR|           1|\n",
      "|   BWI| GRR|           1|\n",
      "|   ATL| OGG|           1|\n",
      "|   CIC| SMF|           1|\n",
      "|   MDT| PHL|           1|\n",
      "|   ELP| MFE|           1|\n",
      "|   FSD| SBN|           1|\n",
      "|   PSC| PIH|           1|\n",
      "|   PIT| DSM|           1|\n",
      "|   LAN| GRR|           1|\n",
      "|   SMF| CVG|           1|\n",
      "|   CVG| SMF|           1|\n",
      "|   RIC| BWI|           1|\n",
      "|   GSO| JAX|           1|\n",
      "|   AZO| MKE|           1|\n",
      "|   TUL| GJT|           1|\n",
      "|   PIT| MSN|           1|\n",
      "+------+----+------------+\n",
      "\n"
     ]
    }
   ],
   "source": [
    "#2007 fewest delays\n",
    "#logic here: first since we are only counting delays, we filter out early arrival/departures (negative values)\n",
    "#there are multiple routes that have the fewest numbers of delay (1), thus we show total of 20 in the table\n",
    "\n",
    "fewestdelay2007 = air2007.filter((air2007.ArrDelay > 0) | (air2007.DepDelay > 0)).\\\n",
    "    groupby(['Origin', 'Dest']).\\\n",
    "    agg(count(\"*\").alias(\"total_delays\")).\\\n",
    "    orderBy(\"total_delays\").\\\n",
    "    limit(20)\n",
    "    \n",
    "fewestdelay2007.show()"
   ]
  },
  {
   "cell_type": "code",
   "execution_count": 26,
   "metadata": {},
   "outputs": [
    {
     "name": "stdout",
     "output_type": "stream",
     "text": [
      "+------+----+------------+\n",
      "|Origin|Dest|total_delays|\n",
      "+------+----+------------+\n",
      "|   EVV| STL|           1|\n",
      "|   MSN| RFD|           1|\n",
      "|   PHL| GRR|           1|\n",
      "|   MCI| MKE|           1|\n",
      "|   ONT| SAN|           1|\n",
      "|   ROA| BWI|           1|\n",
      "|   MOD| BFL|           1|\n",
      "|   XNA| FAR|           1|\n",
      "|   GRB| DSM|           1|\n",
      "|   BNA| CID|           1|\n",
      "|   SWF| BDL|           1|\n",
      "|   RDM| IDA|           1|\n",
      "|   ORF| SAV|           1|\n",
      "|   ICT| PIA|           1|\n",
      "|   MOD| RNO|           1|\n",
      "|   RDU| GRB|           1|\n",
      "|   IYK| BFL|           1|\n",
      "|   AZO| XNA|           1|\n",
      "|   RAP| TWF|           1|\n",
      "|   TUL| ASE|           1|\n",
      "+------+----+------------+\n",
      "\n"
     ]
    }
   ],
   "source": [
    "#2008 fewest delays\n",
    "\n",
    "fewestdelay2008 = air2008.filter((air2008.ArrDelay > 0) | (air2008.DepDelay > 0)).\\\n",
    "    groupby(['Origin', 'Dest']).\\\n",
    "    agg(count(\"*\").alias(\"total_delays\")).\\\n",
    "    orderBy(\"total_delays\").\\\n",
    "    limit(20)\n",
    "    \n",
    "fewestdelay2008.show()"
   ]
  },
  {
   "cell_type": "code",
   "execution_count": null,
   "metadata": {},
   "outputs": [],
   "source": []
  },
  {
   "cell_type": "markdown",
   "metadata": {},
   "source": [
    "# 3. Do you see any significant seasonality effects for delays?"
   ]
  },
  {
   "cell_type": "code",
   "execution_count": 19,
   "metadata": {},
   "outputs": [],
   "source": [
    "#2007 arrival and departure delay seasonality\n",
    "#to perform visualization to see seasonality effects, we need to use spark df to pandas\n",
    "\n",
    "sea_arrdelay2007 = air2007.select(['Month', 'ArrDelay']).\\\n",
    "    filter('ArrDelay > 0').\\\n",
    "    groupby('Month').\\\n",
    "    agg(mean('ArrDelay').alias(\"mean_sea_arrdelay\")).\\\n",
    "    orderBy(\"Month\").\\\n",
    "    toPandas()\n",
    "    \n",
    "sea_depdelay2007 = air2007.select(['Month', 'DepDelay']).\\\n",
    "    filter('DepDelay > 0').\\\n",
    "    groupby('Month').\\\n",
    "    agg(mean('DepDelay').alias(\"mean_sea_depdelay\")).\\\n",
    "    orderBy(\"Month\").\\\n",
    "    toPandas()    \n"
   ]
  },
  {
   "cell_type": "code",
   "execution_count": 20,
   "metadata": {},
   "outputs": [
    {
     "data": {
      "text/plain": [
       "Text(0,0.5,'Arrival Delay')"
      ]
     },
     "execution_count": 20,
     "metadata": {},
     "output_type": "execute_result"
    },
    {
     "data": {
      "image/png": "[encoded data removed]",
      "text/plain": [
       "<Figure size 432x288 with 1 Axes>"
      ]
     },
     "metadata": {},
     "output_type": "display_data"
    }
   ],
   "source": [
    "%matplotlib inline\n",
    "import pandas as pd\n",
    "import matplotlib.pyplot as plt\n",
    "sea_arrdelay7_plot = sea_arrdelay2007.plot(kind='bar',x='Month', y='mean_sea_arrdelay', legend=None, title=\"Monthly Arrival Delay for 2007\")\n",
    "sea_arrdelay7_plot.set_xlabel(\"Month\")\n",
    "sea_arrdelay7_plot.set_ylabel(\"Arrival Delay\")"
   ]
  },
  {
   "cell_type": "code",
   "execution_count": 21,
   "metadata": {},
   "outputs": [
    {
     "data": {
      "text/plain": [
       "Text(0,0.5,'Departure Delay')"
      ]
     },
     "execution_count": 21,
     "metadata": {},
     "output_type": "execute_result"
    },
    {
     "data": {
      "image/png": "[encoded data removed]",
      "text/plain": [
       "<Figure size 432x288 with 1 Axes>"
      ]
     },
     "metadata": {},
     "output_type": "display_data"
    }
   ],
   "source": [
    "sea_depdelay7_plot = sea_depdelay2007.plot(kind='bar',x='Month', y='mean_sea_depdelay', legend=None, title=\"Monthly Departure Delay for 2007\")\n",
    "sea_depdelay7_plot.set_xlabel(\"Month\")\n",
    "sea_depdelay7_plot.set_ylabel(\"Departure Delay\")\n"
   ]
  },
  {
   "cell_type": "code",
   "execution_count": 22,
   "metadata": {},
   "outputs": [],
   "source": [
    "#2008 arrival and departure delay seasonality\n",
    "\n",
    "sea_arrdelay2008 = air2008.select(['Month', 'ArrDelay']).\\\n",
    "    filter('ArrDelay > 0').\\\n",
    "    groupby('Month').\\\n",
    "    agg(mean('ArrDelay').alias(\"mean_sea_arrdelay\")).\\\n",
    "    orderBy(\"Month\").\\\n",
    "    toPandas()\n",
    "    \n",
    "sea_depdelay2008 = air2008.select(['Month', 'DepDelay']).\\\n",
    "    filter('DepDelay > 0').\\\n",
    "    groupby('Month').\\\n",
    "    agg(mean('DepDelay').alias(\"mean_sea_depdelay\")).\\\n",
    "    orderBy(\"Month\").\\\n",
    "    toPandas()    \n"
   ]
  },
  {
   "cell_type": "code",
   "execution_count": 23,
   "metadata": {},
   "outputs": [
    {
     "data": {
      "text/plain": [
       "Text(0,0.5,'Arrival Delay')"
      ]
     },
     "execution_count": 23,
     "metadata": {},
     "output_type": "execute_result"
    },
    {
     "data": {
      "image/png": "[encoded data removed]",
      "text/plain": [
       "<Figure size 432x288 with 1 Axes>"
      ]
     },
     "metadata": {},
     "output_type": "display_data"
    }
   ],
   "source": [
    "sea_arrdelay8_plot = sea_arrdelay2008.plot(kind='bar',x='Month', y='mean_sea_arrdelay', legend=None, title=\"Monthly Arrival Delay for 2008\")\n",
    "sea_arrdelay8_plot.set_xlabel(\"Month\")\n",
    "sea_arrdelay8_plot.set_ylabel(\"Arrival Delay\")"
   ]
  },
  {
   "cell_type": "code",
   "execution_count": 24,
   "metadata": {},
   "outputs": [
    {
     "data": {
      "text/plain": [
       "Text(0,0.5,'Departure Delay')"
      ]
     },
     "execution_count": 24,
     "metadata": {},
     "output_type": "execute_result"
    },
    {
     "data": {
      "image/png": "[encoded data removed]",
      "text/plain": [
       "<Figure size 432x288 with 1 Axes>"
      ]
     },
     "metadata": {},
     "output_type": "display_data"
    }
   ],
   "source": [
    "sea_depdelay8_plot = sea_depdelay2008.plot(kind='bar',x='Month', y='mean_sea_depdelay', legend=None, title=\"Monthly Departure Delay for 2008\")\n",
    "sea_depdelay8_plot.set_xlabel(\"Month\")\n",
    "sea_depdelay8_plot.set_ylabel(\"Departure Delay\")"
   ]
  },
  {
   "cell_type": "markdown",
   "metadata": {},
   "source": [
    "Comment: We see similar patterns for arrival and departure delays for 2007 and 2008 where delays happens most frequently in June - August and Decemeber. This is within my expectation as these are the monthly where flights are busy due to summer and winter holidays."
   ]
  },
  {
   "cell_type": "code",
   "execution_count": null,
   "metadata": {},
   "outputs": [],
   "source": []
  },
  {
   "cell_type": "markdown",
   "metadata": {},
   "source": [
    "# 4. Do you see any increase or decrease in delays on weekends?"
   ]
  },
  {
   "cell_type": "code",
   "execution_count": 27,
   "metadata": {},
   "outputs": [],
   "source": [
    "#2007 arrival and departure delay on weekends\n",
    "\n",
    "dow_arrdelay2007 = air2007.select(['DayOfWeek', 'ArrDelay']).\\\n",
    "    filter('ArrDelay > 0').\\\n",
    "    groupby('DayOfWeek').\\\n",
    "    agg(mean('ArrDelay').alias(\"mean_dow_arrdelay\")).\\\n",
    "    orderBy(\"DayOfWeek\").\\\n",
    "    toPandas()\n",
    "    \n",
    "dow_depdelay2007 = air2007.select(['DayOfWeek', 'DepDelay']).\\\n",
    "    filter('DepDelay > 0').\\\n",
    "    groupby('DayOfWeek').\\\n",
    "    agg(mean('DepDelay').alias(\"mean_dow_depdelay\")).\\\n",
    "    orderBy(\"DayOfWeek\").\\\n",
    "    toPandas()    "
   ]
  },
  {
   "cell_type": "code",
   "execution_count": 28,
   "metadata": {},
   "outputs": [
    {
     "data": {
      "text/plain": [
       "Text(0,0.5,'Arrival Delay')"
      ]
     },
     "execution_count": 28,
     "metadata": {},
     "output_type": "execute_result"
    },
    {
     "data": {
      "image/png": "[encoded data removed]",
      "text/plain": [
       "<Figure size 432x288 with 1 Axes>"
      ]
     },
     "metadata": {},
     "output_type": "display_data"
    }
   ],
   "source": [
    "dow_arrdelay7_plot = dow_arrdelay2007.plot(kind='bar',x='DayOfWeek', y='mean_dow_arrdelay', legend=None, title=\"DayOfWeek Arrival Delay for 2007\")\n",
    "dow_arrdelay7_plot.set_xlabel(\"DayOfWeek\")\n",
    "dow_arrdelay7_plot.set_ylabel(\"Arrival Delay\")"
   ]
  },
  {
   "cell_type": "code",
   "execution_count": 29,
   "metadata": {},
   "outputs": [
    {
     "data": {
      "text/plain": [
       "Text(0,0.5,'Departure Delay')"
      ]
     },
     "execution_count": 29,
     "metadata": {},
     "output_type": "execute_result"
    },
    {
     "data": {
      "image/png": "[encoded data removed]",
      "text/plain": [
       "<Figure size 432x288 with 1 Axes>"
      ]
     },
     "metadata": {},
     "output_type": "display_data"
    }
   ],
   "source": [
    "sea_depdelay7_plot = dow_depdelay2007.plot(kind='bar',x='DayOfWeek', y='mean_dow_depdelay', legend=None, title=\"DayOfWeek Departure Delay for 2007\")\n",
    "sea_depdelay7_plot.set_xlabel(\"DayOfWeek\")\n",
    "sea_depdelay7_plot.set_ylabel(\"Departure Delay\")"
   ]
  },
  {
   "cell_type": "code",
   "execution_count": 30,
   "metadata": {},
   "outputs": [],
   "source": [
    "#2008 arrival and departure delay on weekends\n",
    "\n",
    "dow_arrdelay2008 = air2008.select(['DayOfWeek', 'ArrDelay']).\\\n",
    "    filter('ArrDelay > 0').\\\n",
    "    groupby('DayOfWeek').\\\n",
    "    agg(mean('ArrDelay').alias(\"mean_dow_arrdelay\")).\\\n",
    "    orderBy(\"DayOfWeek\").\\\n",
    "    toPandas()\n",
    "    \n",
    "dow_depdelay2008 = air2008.select(['DayOfWeek', 'DepDelay']).\\\n",
    "    filter('DepDelay > 0').\\\n",
    "    groupby('DayOfWeek').\\\n",
    "    agg(mean('DepDelay').alias(\"mean_dow_depdelay\")).\\\n",
    "    orderBy(\"DayOfWeek\").\\\n",
    "    toPandas()    \n"
   ]
  },
  {
   "cell_type": "code",
   "execution_count": 31,
   "metadata": {},
   "outputs": [
    {
     "data": {
      "text/plain": [
       "Text(0,0.5,'Arrival Delay')"
      ]
     },
     "execution_count": 31,
     "metadata": {},
     "output_type": "execute_result"
    },
    {
     "data": {
      "image/png": "[encoded data removed]",
      "text/plain": [
       "<Figure size 432x288 with 1 Axes>"
      ]
     },
     "metadata": {},
     "output_type": "display_data"
    }
   ],
   "source": [
    "dow_arrdelay8_plot = dow_arrdelay2008.plot(kind='bar',x='DayOfWeek', y='mean_dow_arrdelay', legend=None, title=\"DayOfWeek Arrival Delay for 2008\")\n",
    "dow_arrdelay8_plot.set_xlabel(\"DayOfWeek\")\n",
    "dow_arrdelay8_plot.set_ylabel(\"Arrival Delay\")"
   ]
  },
  {
   "cell_type": "code",
   "execution_count": 32,
   "metadata": {},
   "outputs": [
    {
     "data": {
      "text/plain": [
       "Text(0,0.5,'Departure Delay')"
      ]
     },
     "execution_count": 32,
     "metadata": {},
     "output_type": "execute_result"
    },
    {
     "data": {
      "image/png": "[encoded data removed]",
      "text/plain": [
       "<Figure size 432x288 with 1 Axes>"
      ]
     },
     "metadata": {},
     "output_type": "display_data"
    }
   ],
   "source": [
    "sea_depdelay8_plot = dow_depdelay2008.plot(kind='bar',x='DayOfWeek', y='mean_dow_depdelay', legend=None, title=\"DayOfWeek Departure Delay for 2008\")\n",
    "sea_depdelay8_plot.set_xlabel(\"DayOfWeek\")\n",
    "sea_depdelay8_plot.set_ylabel(\"Departure Delay\")"
   ]
  },
  {
   "cell_type": "markdown",
   "metadata": {},
   "source": [
    "Comment: For 2007, we see that the arrival and departure delay is worst on Thursdays and Fridays. For 2008, the arrival and departure delay is worst on Fridays and Sundays. Surprisingly, the least arrival and departure delay for 2007 and 2008 are Satursdays."
   ]
  },
  {
   "cell_type": "code",
   "execution_count": null,
   "metadata": {},
   "outputs": [],
   "source": []
  },
  {
   "cell_type": "markdown",
   "metadata": {},
   "source": [
    "# 5. Are flights equally distributed throughout the day? Plot the distribution of DepTime, ArrTime (actual departure and arrival time)"
   ]
  },
  {
   "cell_type": "code",
   "execution_count": 33,
   "metadata": {},
   "outputs": [],
   "source": [
    "# arrival time 2007\n",
    "#we note that the ArrTime is in the format of hhmm, we create a col called arrtime to reclassify the ArrTime as hours (0,1,..23)\n",
    "arrtime2007 = air2007.\\\n",
    "    withColumn(\"arrtime\",\\\n",
    "               when(col(\"ArrTime\") < 100, 0).\\\n",
    "               when(col(\"ArrTime\") < 200, 1).\\\n",
    "               when(col(\"ArrTime\") < 300, 2).\\\n",
    "               when(col(\"ArrTime\") < 400, 3).\\\n",
    "               when(col(\"ArrTime\") < 500, 4).\\\n",
    "               when(col(\"ArrTime\") < 600, 5).\\\n",
    "               when(col(\"ArrTime\") < 700, 6).\\\n",
    "               when(col(\"ArrTime\") < 800, 7).\\\n",
    "               when(col(\"ArrTime\") < 900, 8).\\\n",
    "               when(col(\"ArrTime\") < 1000, 9).\\\n",
    "               when(col(\"ArrTime\") < 1100, 10).\\\n",
    "               when(col(\"ArrTime\") < 1200, 11).\\\n",
    "               when(col(\"ArrTime\") < 1300, 12).\\\n",
    "               when(col(\"ArrTime\") < 1400, 13).\\\n",
    "               when(col(\"ArrTime\") < 1500, 14).\\\n",
    "               when(col(\"ArrTime\") < 1600, 15).\\\n",
    "               when(col(\"ArrTime\") < 1700, 16).\\\n",
    "               when(col(\"ArrTime\") < 1800, 17).\\\n",
    "               when(col(\"ArrTime\") < 1900, 18).\\\n",
    "               when(col(\"ArrTime\") < 2000, 19).\\\n",
    "               when(col(\"ArrTime\") < 2100, 20).\\\n",
    "               when(col(\"ArrTime\") < 2200, 21).\\\n",
    "               when(col(\"ArrTime\") < 2300, 22).\\\n",
    "               otherwise(23)).\\\n",
    "    groupby('arrtime').\\\n",
    "    agg(count('arrtime').alias('NumberOfFlights')).\\\n",
    "    orderBy(\"arrtime\").\\\n",
    "    toPandas()\n"
   ]
  },
  {
   "cell_type": "code",
   "execution_count": 34,
   "metadata": {},
   "outputs": [
    {
     "data": {
      "text/plain": [
       "Text(0,0.5,'Number of Flights')"
      ]
     },
     "execution_count": 34,
     "metadata": {},
     "output_type": "execute_result"
    },
    {
     "data": {
      "image/png": "[encoded data removed]",
      "text/plain": [
       "<Figure size 432x288 with 1 Axes>"
      ]
     },
     "metadata": {},
     "output_type": "display_data"
    }
   ],
   "source": [
    "hour_arrtime7_plot = arrtime2007.plot(kind='bar',x='arrtime', y='NumberOfFlights', legend=None, title= \"Arrival Time Distribution for 2007 in Hours\")\n",
    "hour_arrtime7_plot.set_xlabel(\"Hour\")\n",
    "hour_arrtime7_plot.set_ylabel(\"Number of Flights\")"
   ]
  },
  {
   "cell_type": "code",
   "execution_count": 35,
   "metadata": {},
   "outputs": [],
   "source": [
    "# departure time 2007\n",
    "deptime2007 = air2007.\\\n",
    "    withColumn(\"deptime\",\\\n",
    "               when(col(\"DepTime\") < 100, 0).\\\n",
    "               when(col(\"DepTime\") < 200, 1).\\\n",
    "               when(col(\"DepTime\") < 300, 2).\\\n",
    "               when(col(\"DepTime\") < 400, 3).\\\n",
    "               when(col(\"DepTime\") < 500, 4).\\\n",
    "               when(col(\"DepTime\") < 600, 5).\\\n",
    "               when(col(\"DepTime\") < 700, 6).\\\n",
    "               when(col(\"DepTime\") < 800, 7).\\\n",
    "               when(col(\"DepTime\") < 900, 8).\\\n",
    "               when(col(\"DepTime\") < 1000, 9).\\\n",
    "               when(col(\"DepTime\") < 1100, 10).\\\n",
    "               when(col(\"DepTime\") < 1200, 11).\\\n",
    "               when(col(\"DepTime\") < 1300, 12).\\\n",
    "               when(col(\"DepTime\") < 1400, 13).\\\n",
    "               when(col(\"DepTime\") < 1500, 14).\\\n",
    "               when(col(\"DepTime\") < 1600, 15).\\\n",
    "               when(col(\"DepTime\") < 1700, 16).\\\n",
    "               when(col(\"DepTime\") < 1800, 17).\\\n",
    "               when(col(\"DepTime\") < 1900, 18).\\\n",
    "               when(col(\"DepTime\") < 2000, 19).\\\n",
    "               when(col(\"DepTime\") < 2100, 20).\\\n",
    "               when(col(\"DepTime\") < 2200, 21).\\\n",
    "               when(col(\"DepTime\") < 2300, 22).\\\n",
    "               otherwise(23)).\\\n",
    "    groupby('deptime').\\\n",
    "    agg(count('deptime').alias('NumberOfFlights')).\\\n",
    "    orderBy(\"deptime\").\\\n",
    "    toPandas()\n"
   ]
  },
  {
   "cell_type": "code",
   "execution_count": 36,
   "metadata": {},
   "outputs": [
    {
     "data": {
      "text/plain": [
       "Text(0,0.5,'Number of Flights')"
      ]
     },
     "execution_count": 36,
     "metadata": {},
     "output_type": "execute_result"
    },
    {
     "data": {
      "image/png": "[encoded data removed]",
      "text/plain": [
       "<Figure size 432x288 with 1 Axes>"
      ]
     },
     "metadata": {},
     "output_type": "display_data"
    }
   ],
   "source": [
    "hour_deptime7_plot = deptime2007.plot(kind='bar',x='deptime', y='NumberOfFlights', legend=None, title= \"Departure Time Distribution for 2007 in Hours\")\n",
    "hour_deptime7_plot.set_xlabel(\"Hour\")\n",
    "hour_deptime7_plot.set_ylabel(\"Number of Flights\")"
   ]
  },
  {
   "cell_type": "code",
   "execution_count": 37,
   "metadata": {},
   "outputs": [],
   "source": [
    "# arrival time 2008\n",
    "arrtime2008 = air2008.\\\n",
    "    withColumn(\"arrtime\",\\\n",
    "               when(col(\"ArrTime\") < 100, 0).\\\n",
    "               when(col(\"ArrTime\") < 200, 1).\\\n",
    "               when(col(\"ArrTime\") < 300, 2).\\\n",
    "               when(col(\"ArrTime\") < 400, 3).\\\n",
    "               when(col(\"ArrTime\") < 500, 4).\\\n",
    "               when(col(\"ArrTime\") < 600, 5).\\\n",
    "               when(col(\"ArrTime\") < 700, 6).\\\n",
    "               when(col(\"ArrTime\") < 800, 7).\\\n",
    "               when(col(\"ArrTime\") < 900, 8).\\\n",
    "               when(col(\"ArrTime\") < 1000, 9).\\\n",
    "               when(col(\"ArrTime\") < 1100, 10).\\\n",
    "               when(col(\"ArrTime\") < 1200, 11).\\\n",
    "               when(col(\"ArrTime\") < 1300, 12).\\\n",
    "               when(col(\"ArrTime\") < 1400, 13).\\\n",
    "               when(col(\"ArrTime\") < 1500, 14).\\\n",
    "               when(col(\"ArrTime\") < 1600, 15).\\\n",
    "               when(col(\"ArrTime\") < 1700, 16).\\\n",
    "               when(col(\"ArrTime\") < 1800, 17).\\\n",
    "               when(col(\"ArrTime\") < 1900, 18).\\\n",
    "               when(col(\"ArrTime\") < 2000, 19).\\\n",
    "               when(col(\"ArrTime\") < 2100, 20).\\\n",
    "               when(col(\"ArrTime\") < 2200, 21).\\\n",
    "               when(col(\"ArrTime\") < 2300, 22).\\\n",
    "               otherwise(23)).\\\n",
    "    groupby('arrtime').\\\n",
    "    agg(count('arrtime').alias('NumberOfFlights')).\\\n",
    "    orderBy(\"arrtime\").\\\n",
    "    toPandas()\n"
   ]
  },
  {
   "cell_type": "code",
   "execution_count": 38,
   "metadata": {},
   "outputs": [
    {
     "data": {
      "text/plain": [
       "Text(0,0.5,'Number of Flights')"
      ]
     },
     "execution_count": 38,
     "metadata": {},
     "output_type": "execute_result"
    },
    {
     "data": {
      "image/png": "[encoded data removed]",
      "text/plain": [
       "<Figure size 432x288 with 1 Axes>"
      ]
     },
     "metadata": {},
     "output_type": "display_data"
    }
   ],
   "source": [
    "hour_arrtime8_plot = arrtime2008.plot(kind='bar',x='arrtime', y='NumberOfFlights', legend=None, title= \"Arrival Time Distribution for 2008 in Hours\")\n",
    "hour_arrtime8_plot.set_xlabel(\"Hour\")\n",
    "hour_arrtime8_plot.set_ylabel(\"Number of Flights\")"
   ]
  },
  {
   "cell_type": "code",
   "execution_count": 39,
   "metadata": {},
   "outputs": [],
   "source": [
    "# departure time 2008\n",
    "deptime2008 = air2008.\\\n",
    "    withColumn(\"deptime\",\\\n",
    "               when(col(\"DepTime\") < 100, 0).\\\n",
    "               when(col(\"DepTime\") < 200, 1).\\\n",
    "               when(col(\"DepTime\") < 300, 2).\\\n",
    "               when(col(\"DepTime\") < 400, 3).\\\n",
    "               when(col(\"DepTime\") < 500, 4).\\\n",
    "               when(col(\"DepTime\") < 600, 5).\\\n",
    "               when(col(\"DepTime\") < 700, 6).\\\n",
    "               when(col(\"DepTime\") < 800, 7).\\\n",
    "               when(col(\"DepTime\") < 900, 8).\\\n",
    "               when(col(\"DepTime\") < 1000, 9).\\\n",
    "               when(col(\"DepTime\") < 1100, 10).\\\n",
    "               when(col(\"DepTime\") < 1200, 11).\\\n",
    "               when(col(\"DepTime\") < 1300, 12).\\\n",
    "               when(col(\"DepTime\") < 1400, 13).\\\n",
    "               when(col(\"DepTime\") < 1500, 14).\\\n",
    "               when(col(\"DepTime\") < 1600, 15).\\\n",
    "               when(col(\"DepTime\") < 1700, 16).\\\n",
    "               when(col(\"DepTime\") < 1800, 17).\\\n",
    "               when(col(\"DepTime\") < 1900, 18).\\\n",
    "               when(col(\"DepTime\") < 2000, 19).\\\n",
    "               when(col(\"DepTime\") < 2100, 20).\\\n",
    "               when(col(\"DepTime\") < 2200, 21).\\\n",
    "               when(col(\"DepTime\") < 2300, 22).\\\n",
    "               otherwise(23)).\\\n",
    "    groupby('deptime').\\\n",
    "    agg(count('deptime').alias('NumberOfFlights')).\\\n",
    "    orderBy(\"deptime\").\\\n",
    "    toPandas()"
   ]
  },
  {
   "cell_type": "code",
   "execution_count": 40,
   "metadata": {},
   "outputs": [
    {
     "data": {
      "text/plain": [
       "Text(0,0.5,'Number of Flights')"
      ]
     },
     "execution_count": 40,
     "metadata": {},
     "output_type": "execute_result"
    },
    {
     "data": {
      "image/png": "[encoded data removed]",
      "text/plain": [
       "<Figure size 432x288 with 1 Axes>"
      ]
     },
     "metadata": {},
     "output_type": "display_data"
    }
   ],
   "source": [
    "hour_deptime8_plot = deptime2008.plot(kind='bar',x='deptime', y='NumberOfFlights', legend=None, title= \"Departure Time Distribution for 2008 in Hours\")\n",
    "hour_deptime8_plot.set_xlabel(\"Hour\")\n",
    "hour_deptime8_plot.set_ylabel(\"Number of Flights\")"
   ]
  },
  {
   "cell_type": "markdown",
   "metadata": {},
   "source": [
    "Comment: the overall arrival and departure time distribution look similar for 2007 and 2008, where the arrival and departure flight between 0-5 is significantly lower as compared to the rest of the hours. The rest of the hours are pretty equally distributed except for when it reaches 20-23 where the number of flights decrease. "
   ]
  },
  {
   "cell_type": "code",
   "execution_count": null,
   "metadata": {},
   "outputs": [],
   "source": []
  },
  {
   "cell_type": "markdown",
   "metadata": {},
   "source": [
    "# 6. Do you see the worst delays at any certain times of the day? Contrast DepTime, ArrTime with CRSDepTime, CRSArrTime (scheduled arrival and departure time; CRS is the Computer Reservation System)\n"
   ]
  },
  {
   "cell_type": "code",
   "execution_count": 41,
   "metadata": {},
   "outputs": [],
   "source": [
    "# arrival delay 2007 in hours\n",
    "#we note that the difference in DepTime and SRSDepTime is DepDelay and the difference in ArrTime and CRSArrTime is ArrDelay\n",
    "#therefore we will first filter on delayed flights (ArrDelay >0), then we will reclassify the hours to two digits\n",
    "\n",
    "hour_arrdelay2007 = air2007.select(['ArrDelay', 'ArrTime']).\\\n",
    "    filter('ArrDelay > 0').\\\n",
    "    withColumn(\"arrtime\",\\\n",
    "               when(col(\"ArrTime\") < 100, 0).\\\n",
    "               when(col(\"ArrTime\") < 200, 1).\\\n",
    "               when(col(\"ArrTime\") < 300, 2).\\\n",
    "               when(col(\"ArrTime\") < 400, 3).\\\n",
    "               when(col(\"ArrTime\") < 500, 4).\\\n",
    "               when(col(\"ArrTime\") < 600, 5).\\\n",
    "               when(col(\"ArrTime\") < 700, 6).\\\n",
    "               when(col(\"ArrTime\") < 800, 7).\\\n",
    "               when(col(\"ArrTime\") < 900, 8).\\\n",
    "               when(col(\"ArrTime\") < 1000, 9).\\\n",
    "               when(col(\"ArrTime\") < 1100, 10).\\\n",
    "               when(col(\"ArrTime\") < 1200, 11).\\\n",
    "               when(col(\"ArrTime\") < 1300, 12).\\\n",
    "               when(col(\"ArrTime\") < 1400, 13).\\\n",
    "               when(col(\"ArrTime\") < 1500, 14).\\\n",
    "               when(col(\"ArrTime\") < 1600, 15).\\\n",
    "               when(col(\"ArrTime\") < 1700, 16).\\\n",
    "               when(col(\"ArrTime\") < 1800, 17).\\\n",
    "               when(col(\"ArrTime\") < 1900, 18).\\\n",
    "               when(col(\"ArrTime\") < 2000, 19).\\\n",
    "               when(col(\"ArrTime\") < 2100, 20).\\\n",
    "               when(col(\"ArrTime\") < 2200, 21).\\\n",
    "               when(col(\"ArrTime\") < 2300, 22).\\\n",
    "               otherwise(23)).\\\n",
    "    groupby('arrtime').\\\n",
    "    agg(mean('ArrDelay').alias('mean_arrdelay')).\\\n",
    "    orderBy(\"arrtime\").\\\n",
    "    toPandas()\n",
    "\n"
   ]
  },
  {
   "cell_type": "code",
   "execution_count": 43,
   "metadata": {},
   "outputs": [
    {
     "data": {
      "text/plain": [
       "Text(0,0.5,'Arrival Delay')"
      ]
     },
     "execution_count": 43,
     "metadata": {},
     "output_type": "execute_result"
    },
    {
     "data": {
      "image/png": "[encoded data removed]",
      "text/plain": [
       "<Figure size 432x288 with 1 Axes>"
      ]
     },
     "metadata": {},
     "output_type": "display_data"
    }
   ],
   "source": [
    "hour_arrdelay7_plot = hour_arrdelay2007.plot(kind='bar',x='arrtime', y='mean_arrdelay', legend=None, title= \"Arrival Delay Distribution for 2007 in Hours\")\n",
    "hour_arrdelay7_plot.set_xlabel(\"Hour\")\n",
    "hour_arrdelay7_plot.set_ylabel(\"Arrival Delay\")"
   ]
  },
  {
   "cell_type": "code",
   "execution_count": 46,
   "metadata": {},
   "outputs": [],
   "source": [
    "# departure delay 2007 in hours\n",
    "\n",
    "hour_depdelay2007 = air2007.select(['DepDelay', 'DepTime']).\\\n",
    "    filter('DepDelay > 0').\\\n",
    "    withColumn(\"deptime\",\\\n",
    "               when(col(\"DepTime\") < 100, 0).\\\n",
    "               when(col(\"DepTime\") < 200, 1).\\\n",
    "               when(col(\"DepTime\") < 300, 2).\\\n",
    "               when(col(\"DepTime\") < 400, 3).\\\n",
    "               when(col(\"DepTime\") < 500, 4).\\\n",
    "               when(col(\"DepTime\") < 600, 5).\\\n",
    "               when(col(\"DepTime\") < 700, 6).\\\n",
    "               when(col(\"DepTime\") < 800, 7).\\\n",
    "               when(col(\"DepTime\") < 900, 8).\\\n",
    "               when(col(\"DepTime\") < 1000, 9).\\\n",
    "               when(col(\"DepTime\") < 1100, 10).\\\n",
    "               when(col(\"DepTime\") < 1200, 11).\\\n",
    "               when(col(\"DepTime\") < 1300, 12).\\\n",
    "               when(col(\"DepTime\") < 1400, 13).\\\n",
    "               when(col(\"DepTime\") < 1500, 14).\\\n",
    "               when(col(\"DepTime\") < 1600, 15).\\\n",
    "               when(col(\"DepTime\") < 1700, 16).\\\n",
    "               when(col(\"DepTime\") < 1800, 17).\\\n",
    "               when(col(\"DepTime\") < 1900, 18).\\\n",
    "               when(col(\"DepTime\") < 2000, 19).\\\n",
    "               when(col(\"DepTime\") < 2100, 20).\\\n",
    "               when(col(\"DepTime\") < 2200, 21).\\\n",
    "               when(col(\"DepTime\") < 2300, 22).\\\n",
    "               otherwise(23)).\\\n",
    "    groupby('deptime').\\\n",
    "    agg(mean('DepDelay').alias('mean_depdelay')).\\\n",
    "    orderBy(\"deptime\").\\\n",
    "    toPandas()\n"
   ]
  },
  {
   "cell_type": "code",
   "execution_count": 47,
   "metadata": {},
   "outputs": [
    {
     "data": {
      "text/plain": [
       "Text(0,0.5,'Departure Delay')"
      ]
     },
     "execution_count": 47,
     "metadata": {},
     "output_type": "execute_result"
    },
    {
     "data": {
      "image/png": "[encoded data removed]",
      "text/plain": [
       "<Figure size 432x288 with 1 Axes>"
      ]
     },
     "metadata": {},
     "output_type": "display_data"
    }
   ],
   "source": [
    "hour_depdelay7_plot = hour_depdelay2007.plot(kind='bar',x='deptime', y='mean_depdelay', legend=None, title= \"Departure Delay Distribution for 2007 in Hours\")\n",
    "hour_depdelay7_plot.set_xlabel(\"Hour\")\n",
    "hour_depdelay7_plot.set_ylabel(\"Departure Delay\")"
   ]
  },
  {
   "cell_type": "code",
   "execution_count": 48,
   "metadata": {},
   "outputs": [],
   "source": [
    "# arrival delay 2008 in hours\n",
    "\n",
    "hour_arrdelay2008 = air2008.select(['ArrDelay', 'ArrTime']).\\\n",
    "    filter('ArrDelay > 0').\\\n",
    "    withColumn(\"arrtime\",\\\n",
    "               when(col(\"ArrTime\") < 100, 0).\\\n",
    "               when(col(\"ArrTime\") < 200, 1).\\\n",
    "               when(col(\"ArrTime\") < 300, 2).\\\n",
    "               when(col(\"ArrTime\") < 400, 3).\\\n",
    "               when(col(\"ArrTime\") < 500, 4).\\\n",
    "               when(col(\"ArrTime\") < 600, 5).\\\n",
    "               when(col(\"ArrTime\") < 700, 6).\\\n",
    "               when(col(\"ArrTime\") < 800, 7).\\\n",
    "               when(col(\"ArrTime\") < 900, 8).\\\n",
    "               when(col(\"ArrTime\") < 1000, 9).\\\n",
    "               when(col(\"ArrTime\") < 1100, 10).\\\n",
    "               when(col(\"ArrTime\") < 1200, 11).\\\n",
    "               when(col(\"ArrTime\") < 1300, 12).\\\n",
    "               when(col(\"ArrTime\") < 1400, 13).\\\n",
    "               when(col(\"ArrTime\") < 1500, 14).\\\n",
    "               when(col(\"ArrTime\") < 1600, 15).\\\n",
    "               when(col(\"ArrTime\") < 1700, 16).\\\n",
    "               when(col(\"ArrTime\") < 1800, 17).\\\n",
    "               when(col(\"ArrTime\") < 1900, 18).\\\n",
    "               when(col(\"ArrTime\") < 2000, 19).\\\n",
    "               when(col(\"ArrTime\") < 2100, 20).\\\n",
    "               when(col(\"ArrTime\") < 2200, 21).\\\n",
    "               when(col(\"ArrTime\") < 2300, 22).\\\n",
    "               otherwise(23)).\\\n",
    "    groupby('arrtime').\\\n",
    "    agg(mean('ArrDelay').alias('mean_arrdelay')).\\\n",
    "    orderBy(\"arrtime\").\\\n",
    "    toPandas()\n",
    "\n"
   ]
  },
  {
   "cell_type": "code",
   "execution_count": 49,
   "metadata": {},
   "outputs": [
    {
     "data": {
      "text/plain": [
       "Text(0,0.5,'Arrival Delay')"
      ]
     },
     "execution_count": 49,
     "metadata": {},
     "output_type": "execute_result"
    },
    {
     "data": {
      "image/png": "[encoded data removed]",
      "text/plain": [
       "<Figure size 432x288 with 1 Axes>"
      ]
     },
     "metadata": {},
     "output_type": "display_data"
    }
   ],
   "source": [
    "hour_arrdelay8_plot = hour_arrdelay2008.plot(kind='bar',x='arrtime', y='mean_arrdelay', legend=None, title= \"Arrival Delay Distribution for 2008 in Hours\")\n",
    "hour_arrdelay8_plot.set_xlabel(\"Hour\")\n",
    "hour_arrdelay8_plot.set_ylabel(\"Arrival Delay\")"
   ]
  },
  {
   "cell_type": "code",
   "execution_count": 50,
   "metadata": {},
   "outputs": [],
   "source": [
    "# departure delay 2008 in hours\n",
    "\n",
    "hour_depdelay2008 = air2008.select(['DepDelay', 'DepTime']).\\\n",
    "    filter('DepDelay > 0').\\\n",
    "    withColumn(\"deptime\",\\\n",
    "               when(col(\"DepTime\") < 100, 0).\\\n",
    "               when(col(\"DepTime\") < 200, 1).\\\n",
    "               when(col(\"DepTime\") < 300, 2).\\\n",
    "               when(col(\"DepTime\") < 400, 3).\\\n",
    "               when(col(\"DepTime\") < 500, 4).\\\n",
    "               when(col(\"DepTime\") < 600, 5).\\\n",
    "               when(col(\"DepTime\") < 700, 6).\\\n",
    "               when(col(\"DepTime\") < 800, 7).\\\n",
    "               when(col(\"DepTime\") < 900, 8).\\\n",
    "               when(col(\"DepTime\") < 1000, 9).\\\n",
    "               when(col(\"DepTime\") < 1100, 10).\\\n",
    "               when(col(\"DepTime\") < 1200, 11).\\\n",
    "               when(col(\"DepTime\") < 1300, 12).\\\n",
    "               when(col(\"DepTime\") < 1400, 13).\\\n",
    "               when(col(\"DepTime\") < 1500, 14).\\\n",
    "               when(col(\"DepTime\") < 1600, 15).\\\n",
    "               when(col(\"DepTime\") < 1700, 16).\\\n",
    "               when(col(\"DepTime\") < 1800, 17).\\\n",
    "               when(col(\"DepTime\") < 1900, 18).\\\n",
    "               when(col(\"DepTime\") < 2000, 19).\\\n",
    "               when(col(\"DepTime\") < 2100, 20).\\\n",
    "               when(col(\"DepTime\") < 2200, 21).\\\n",
    "               when(col(\"DepTime\") < 2300, 22).\\\n",
    "               otherwise(23)).\\\n",
    "    groupby('deptime').\\\n",
    "    agg(mean('DepDelay').alias('mean_depdelay')).\\\n",
    "    orderBy(\"deptime\").\\\n",
    "    toPandas()"
   ]
  },
  {
   "cell_type": "code",
   "execution_count": 51,
   "metadata": {},
   "outputs": [
    {
     "data": {
      "text/plain": [
       "Text(0,0.5,'Arrival Delay')"
      ]
     },
     "execution_count": 51,
     "metadata": {},
     "output_type": "execute_result"
    },
    {
     "data": {
      "image/png": "[encoded data removed]",
      "text/plain": [
       "<Figure size 432x288 with 1 Axes>"
      ]
     },
     "metadata": {},
     "output_type": "display_data"
    }
   ],
   "source": [
    "hour_arrdelay8_plot = hour_arrdelay2008.plot(kind='bar',x='arrtime', y='mean_arrdelay', legend=None, title= \"Arrival Delay Distribution for 2008 in Hours\")\n",
    "hour_arrdelay8_plot.set_xlabel(\"Hour\")\n",
    "hour_arrdelay8_plot.set_ylabel(\"Arrival Delay\")"
   ]
  },
  {
   "cell_type": "markdown",
   "metadata": {},
   "source": [
    "Comment: All the graphs have a very similar distribution where the average delay during midnight (0-4am) is siginificantly worse than rest of the hours. Then the average delay started to slowly increase starting from 7am to later at night. One of the reasons why the delays are so much significant in midnight might because as the delays accumulate throughout the day, flights arrive or needed to be depart at midnight is facing the most severe delay. "
   ]
  },
  {
   "cell_type": "code",
   "execution_count": null,
   "metadata": {},
   "outputs": [],
   "source": []
  }
 ],
 "metadata": {
  "kernelspec": {
   "display_name": "Python 3",
   "language": "python",
   "name": "python3"
  },
  "language_info": {
   "codemirror_mode": {
    "name": "ipython",
    "version": 3
   },
   "file_extension": ".py",
   "mimetype": "text/x-python",
   "name": "python",
   "nbconvert_exporter": "python",
   "pygments_lexer": "ipython3",
   "version": "3.7.3"
  }
 },
 "nbformat": 4,
 "nbformat_minor": 2
}
