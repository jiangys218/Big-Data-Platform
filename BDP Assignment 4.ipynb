{
 "cells": [
  {
   "cell_type": "code",
   "execution_count": 1,
   "metadata": {},
   "outputs": [
    {
     "name": "stdout",
     "output_type": "stream",
     "text": [
      "2.4.0-cdh6.3.0\n"
     ]
    }
   ],
   "source": [
    "print(sc.version)"
   ]
  },
  {
   "cell_type": "code",
   "execution_count": 3,
   "metadata": {},
   "outputs": [],
   "source": [
    "# Record time\n",
    "import time\n",
    "from itertools import islice\n",
    "\n",
    "start_time = time.time()\n",
    "\n",
    "def tic():\n",
    "    global start_time \n",
    "    start_time = time.time()\n",
    "\n",
    "def tac():\n",
    "    t_sec = round(time.time() - start_time)\n",
    "    (t_min, t_sec) = divmod(t_sec,60)\n",
    "    (t_hour,t_min) = divmod(t_min,60) \n",
    "    print('Time passed: {}hour:{}min:{}sec'.format(t_hour,t_min,t_sec))"
   ]
  },
  {
   "cell_type": "code",
   "execution_count": null,
   "metadata": {},
   "outputs": [],
   "source": [
    "# Check file in kadochnikov file"
   ]
  },
  {
   "cell_type": "code",
   "execution_count": 4,
   "metadata": {},
   "outputs": [
    {
     "name": "stdout",
     "output_type": "stream",
     "text": [
      "total 2654944\r\n",
      "-rwxr-xr-x 1 kadochnikov kadochnikov 702878193 Apr  9  2015 2007.csv\r\n",
      "-rwxr-xr-x 1 kadochnikov kadochnikov 167562534 Apr  9  2015 2007.zip\r\n",
      "-rwxr-xr-x 1 kadochnikov kadochnikov 689413344 Apr 10  2015 2008.csv\r\n",
      "-rwxr-xr-x 1 kadochnikov kadochnikov 161037442 Apr 10  2015 2008.zip\r\n",
      "drwxr-sr-x 2 kadochnikov kadochnikov      4096 Nov  4  2016 airbnb\r\n",
      "drwxr-sr-x 2 kadochnikov kadochnikov      4096 Nov 12  2016 air_out\r\n",
      "drwxr-sr-x 2 kadochnikov kadochnikov      4096 Nov  4  2016 air_travel\r\n",
      "drwxr-sr-x 2 kadochnikov kadochnikov      4096 May 11  2018 austin\r\n",
      "drwxr-sr-x 2 kadochnikov kadochnikov      4096 Oct  5  2018 books\r\n",
      "-rwxr-xr-x 1 kadochnikov kadochnikov  26085508 Oct 31  2014 BX-CSV-Dump.zip\r\n",
      "-rwxr-xr-x 1 kadochnikov kadochnikov 877080187 Apr 16  2015 caseload.csv\r\n",
      "drwxr-sr-x 2 kadochnikov kadochnikov      4096 Sep 18  2019 emails\r\n",
      "drwxr-sr-x 3 kadochnikov kadochnikov      4096 May  8  2015 examples-data\r\n",
      "drwxr-sr-x 2 kadochnikov kadochnikov      4096 Oct 12 23:40 fasttext\r\n",
      "drwxr-sr-x 2 kadochnikov kadochnikov      4096 May  8  2015 graphx\r\n",
      "drwxr-sr-x 3 kadochnikov kadochnikov      4096 Apr 27  2017 gutenberg\r\n",
      "drwxr-sr-x 3 kadochnikov kadochnikov      4096 Sep 10  2019 imdb\r\n",
      "drwxr-sr-x 2 kadochnikov kadochnikov      4096 Apr 29  2018 insurance\r\n",
      "drwxr-sr-x 2 kadochnikov kadochnikov      4096 Sep 13  2019 jigsaw\r\n",
      "drwxr-sr-x 2 kadochnikov kadochnikov      4096 May  8  2015 join\r\n",
      "-rwxr-xr-x 1 kadochnikov kadochnikov     19133 Apr 17  2015 LungCapData.csv\r\n",
      "-rwxr-xr-x 1 kadochnikov kadochnikov     35057 Oct 16  2015 LungCapData.txt\r\n",
      "-rwxr-xr-x 1 kadochnikov kadochnikov       301 May  2  2015 lung_cap_out.tsv\r\n",
      "drwxr-sr-x 2 kadochnikov kadochnikov      4096 Oct 20  2018 medicare\r\n",
      "drwxr-sr-x 4 kadochnikov kadochnikov      4096 May  8  2015 movielens\r\n",
      "-rwxr-xr-x 1 kadochnikov kadochnikov      9170 Apr  8  2017 Municipal_Court_Caseload_Information.xlsx\r\n",
      "-rwxr-xr-x 1 kadochnikov kadochnikov  94212181 Apr 16  2015 Municipal_Court_Caseload_Information.zip\r\n",
      "drwxr-sr-x 2 kadochnikov kadochnikov      4096 Nov 10  2017 NLC\r\n",
      "-rwxr-xr-x 1 kadochnikov kadochnikov     12070 Oct 27  2014 pig_1414460512502.log\r\n",
      "-rwxr-xr-x 1 kadochnikov kadochnikov     52867 Oct 23  2015 pig_1445643587306.log\r\n",
      "drwxr-sr-x 2 kadochnikov kadochnikov      4096 Nov  4  2016 pings\r\n",
      "drwxr-sr-x 4 kadochnikov kadochnikov      4096 May 11  2018 similarity\r\n",
      "drwxr-sr-x 3 kadochnikov kadochnikov      4096 Apr 30  2018 spark\r\n",
      "drwxr-sr-x 2 kadochnikov kadochnikov      4096 Mar 14  2017 temp\r\n",
      "drwxr-sr-x 2 kadochnikov kadochnikov      4096 Feb 24  2018 traffic\r\n",
      "-rwxr-xr-x 1 kadochnikov kadochnikov       348 Dec  5  2014 twit.txt\r\n",
      "drwxr-sr-x 2 kadochnikov kadochnikov      4096 May  8  2015 wiki_parquet\r\n"
     ]
    }
   ],
   "source": [
    "! ls -l /project2/msca/kadochnikov/data "
   ]
  },
  {
   "cell_type": "markdown",
   "metadata": {},
   "source": [
    "# 1. Copy the file into your own directory on Linux server"
   ]
  },
  {
   "cell_type": "code",
   "execution_count": 5,
   "metadata": {},
   "outputs": [],
   "source": [
    "! scp /project2/msca/kadochnikov/data/Municipal_Court_Caseload_Information.zip /project2/msca/jiangys/bdp/Municipal_Court_Caseload_Information.zip"
   ]
  },
  {
   "cell_type": "code",
   "execution_count": 6,
   "metadata": {},
   "outputs": [
    {
     "name": "stdout",
     "output_type": "stream",
     "text": [
      "total 943584\r\n",
      "drwxr-xr-x 2 jiangys jiangys      4096 Oct  8 22:55 cities\r\n",
      "-rw-rw-r-- 1 jiangys jiangys 877080187 Apr 16  2015 Municipal_Court_Caseload_Information.csv\r\n",
      "-rwxr-xr-x 1 jiangys jiangys  94212181 Oct 25 14:06 Municipal_Court_Caseload_Information.zip\r\n"
     ]
    }
   ],
   "source": [
    "# make sure file is in\n",
    "! ls -l /project2/msca/jiangys/bdp"
   ]
  },
  {
   "cell_type": "markdown",
   "metadata": {},
   "source": [
    "# 2. Unzip the file"
   ]
  },
  {
   "cell_type": "code",
   "execution_count": 7,
   "metadata": {},
   "outputs": [
    {
     "name": "stdout",
     "output_type": "stream",
     "text": [
      "Archive:  /project2/msca/jiangys/bdp/Municipal_Court_Caseload_Information.zip\r\n",
      "checkdir:  cannot create extraction directory: /project2/msca/jiangys/bdp/Municipal_Court_Caseload_Information.csv\r\n",
      "           File exists\r\n"
     ]
    }
   ],
   "source": [
    "! unzip -o /project2/msca/jiangys/bdp/Municipal_Court_Caseload_Information.zip -d /project2/msca/jiangys/bdp/Municipal_Court_Caseload_Information.csv"
   ]
  },
  {
   "cell_type": "code",
   "execution_count": 14,
   "metadata": {},
   "outputs": [
    {
     "name": "stdout",
     "output_type": "stream",
     "text": [
      "total 948576\r\n",
      "drwxr-xr-x 2 jiangys jiangys      4096 Oct  8 22:55 cities\r\n",
      "-rw-rw-r-- 1 jiangys jiangys 877080187 Apr 16  2015 Municipal_Court_Caseload_Information.csv\r\n",
      "-rwxr-xr-x 1 jiangys jiangys  94212181 Oct 25 14:06 Municipal_Court_Caseload_Information.zip\r\n"
     ]
    }
   ],
   "source": [
    "# make sure file is in\n",
    "! ls -l /project2/msca/jiangys/bdp"
   ]
  },
  {
   "cell_type": "markdown",
   "metadata": {},
   "source": [
    "# 3. Read the data into Spark RDD"
   ]
  },
  {
   "cell_type": "code",
   "execution_count": 28,
   "metadata": {},
   "outputs": [
    {
     "name": "stdout",
     "output_type": "stream",
     "text": [
      "WARNING: log4j.properties is not found. HADOOP_CONF_DIR may be incomplete.\n",
      "Java HotSpot(TM) 64-Bit Server VM warning: ignoring option MaxPermSize=512M; support was removed in 8.0\n",
      "mkdir: `/user/jiangys/bdp': File exists\n",
      "WARNING: log4j.properties is not found. HADOOP_CONF_DIR may be incomplete.\n",
      "Java HotSpot(TM) 64-Bit Server VM warning: ignoring option MaxPermSize=512M; support was removed in 8.0\n"
     ]
    }
   ],
   "source": [
    "! hadoop fs -mkdir /user/jiangys/bdp\n",
    "! hadoop fs -put /project2/msca/jiangys/bdp/Municipal_Court_Caseload_Information.csv /user/jiangys/bdp/Municipal_Court_Caseload_Information.csv"
   ]
  },
  {
   "cell_type": "code",
   "execution_count": 29,
   "metadata": {},
   "outputs": [],
   "source": [
    "! chmod o+x $HOME"
   ]
  },
  {
   "cell_type": "code",
   "execution_count": 30,
   "metadata": {},
   "outputs": [
    {
     "name": "stdout",
     "output_type": "stream",
     "text": [
      "Time passed: 0hour:0min:7sec\n"
     ]
    }
   ],
   "source": [
    "tic()\n",
    "\n",
    "\n",
    "readme_raw = sc.textFile(\"hdfs:///user/jiangys/bdp/Municipal_Court_Caseload_Information.csv\")\n",
    "headers = readme_raw.take(1)\n",
    "readme = readme_raw.mapPartitionsWithIndex(lambda i, iter: islice(iter, 1, None) if i == 0 else iter) #filter out header\n",
    "\n",
    "tac()"
   ]
  },
  {
   "cell_type": "markdown",
   "metadata": {},
   "source": [
    "# 4. Ensure your process the header record correctly"
   ]
  },
  {
   "cell_type": "code",
   "execution_count": 31,
   "metadata": {},
   "outputs": [
    {
     "data": {
      "text/plain": [
       "['TR,04/29/2010 07:00:00 AM +0000,22.40.00,FAILED TO MAINTAIN FINANCIAL RESPONSIBILITY,8000 BLOCK RESEARCH,N, ,N,N,Y',\n",
       " 'TR,04/29/2010 07:00:00 AM +0000,22.40.00,FAILURE TO SIGNAL INTENT TO CHANGE LANES,8000 BLOCK RESEARCH,N, ,N,N,Y',\n",
       " 'TR,04/29/2010 07:00:00 AM +0000,20.00.00,SPEEDING-STATE HIGHWAYS,1000 BLOCK NORTH U S 183,N, ,N,N,Y',\n",
       " 'TR,04/29/2010 07:00:00 AM +0000,20.00.00,NO SEAT BELT-DRIVER/PASSENGER,1000 BLOCK NORTH U S 183,N, ,N,N,Y',\n",
       " 'TR,04/29/2010 07:00:00 AM +0000,23.45.00,SPEEDING - STATE HIGHWAYS - Less than 10% over limit,1000 BLOCK RESEARCH,N, ,N,N,Y',\n",
       " 'PK,05/05/2010 07:00:00 AM +0000,15.28.00,PAY STATION RECEIPT NOT DISPLAYED,700 10TH ST W,N, ,N,N,Y',\n",
       " 'PK,05/05/2010 07:00:00 AM +0000,15.23.00,EXPIRED PAY STATION RECEIPT,800 RIO GRANDE ST,N, ,N,N,Y',\n",
       " 'PK,05/05/2010 07:00:00 AM +0000,15.22.00,EXPIRED PAY STATION RECEIPT,800 RIO GRANDE ST,N, ,N,N,Y',\n",
       " 'PK,05/05/2010 07:00:00 AM +0000,15.18.00,EXPIRED PAY STATION RECEIPT,900 RIO GRANDE ST,N, ,N,N,Y',\n",
       " 'PK,05/05/2010 07:00:00 AM +0000,14.58.00,PAY STATION RECEIPT NOT DISPLAYED,900 SAN ANT. ST,N, ,N,N,Y']"
      ]
     },
     "execution_count": 31,
     "metadata": {},
     "output_type": "execute_result"
    }
   ],
   "source": [
    "readme.take(10)"
   ]
  },
  {
   "cell_type": "code",
   "execution_count": 32,
   "metadata": {},
   "outputs": [
    {
     "data": {
      "text/plain": [
       "PythonRDD[14] at RDD at PythonRDD.scala:53"
      ]
     },
     "execution_count": 32,
     "metadata": {},
     "output_type": "execute_result"
    }
   ],
   "source": [
    "readme.cache()"
   ]
  },
  {
   "cell_type": "code",
   "execution_count": 33,
   "metadata": {},
   "outputs": [
    {
     "data": {
      "text/plain": [
       "['Offense Case Type,Offense Date,Offense Time,Offense Charge Description,Offense Street Name,Offense Cross Street Check , Offense Cross Street,School Zone,Construction Zone,Case Closed']"
      ]
     },
     "execution_count": 33,
     "metadata": {},
     "output_type": "execute_result"
    }
   ],
   "source": [
    "headers"
   ]
  },
  {
   "cell_type": "markdown",
   "metadata": {},
   "source": [
    "# 5. Calculate frequency of offenses by Offense Case Type"
   ]
  },
  {
   "cell_type": "code",
   "execution_count": 34,
   "metadata": {},
   "outputs": [],
   "source": [
    "offense_case_type = readme.map(lambda s:s.split(\",\")[0])"
   ]
  },
  {
   "cell_type": "code",
   "execution_count": 35,
   "metadata": {},
   "outputs": [],
   "source": [
    "offense_case_type = offense_case_type.map(lambda x: (x, 1))\n",
    "frequency_by_offense_case_type = offense_case_type.reduceByKey(lambda x,y: x+y)"
   ]
  },
  {
   "cell_type": "code",
   "execution_count": 36,
   "metadata": {},
   "outputs": [
    {
     "data": {
      "text/plain": [
       "[('RL', 224188),\n",
       " ('PK', 3388981),\n",
       " ('CO', 240308),\n",
       " ('TR', 4313221),\n",
       " ('CM', 319078)]"
      ]
     },
     "execution_count": 36,
     "metadata": {},
     "output_type": "execute_result"
    }
   ],
   "source": [
    "frequency_by_offense_case_type.take(10)"
   ]
  },
  {
   "cell_type": "markdown",
   "metadata": {},
   "source": [
    "# 6. Identify the most frequent offenses by Offense Charge Description (Show Offense Charge Description and offense frequency count in descending order)"
   ]
  },
  {
   "cell_type": "code",
   "execution_count": 37,
   "metadata": {},
   "outputs": [],
   "source": [
    "offense_charge_desc = readme.map(lambda s:s.split(\",\")[3])"
   ]
  },
  {
   "cell_type": "code",
   "execution_count": 38,
   "metadata": {},
   "outputs": [],
   "source": [
    "offense_charge_desc = offense_charge_desc.map(lambda x: (x, 1))\n",
    "frequency_by_offense_charge_desc = offense_charge_desc.reduceByKey(lambda x,y: x+y)"
   ]
  },
  {
   "cell_type": "code",
   "execution_count": 39,
   "metadata": {},
   "outputs": [
    {
     "data": {
      "text/plain": [
       "[('PAY STATION RECEIPT NOT DISPLAYED', 892013)]"
      ]
     },
     "execution_count": 39,
     "metadata": {},
     "output_type": "execute_result"
    }
   ],
   "source": [
    "frequency_by_offense_charge_desc.takeOrdered(1, lambda x:-x[1])"
   ]
  }
 ],
 "metadata": {
  "kernelspec": {
   "display_name": "pySpark",
   "language": "python",
   "name": "pyspark"
  },
  "language_info": {
   "codemirror_mode": {
    "name": "ipython",
    "version": 3
   },
   "file_extension": ".py",
   "mimetype": "text/x-python",
   "name": "python",
   "nbconvert_exporter": "python",
   "pygments_lexer": "ipython3",
   "version": "3.6.8"
  }
 },
 "nbformat": 4,
 "nbformat_minor": 2
}
